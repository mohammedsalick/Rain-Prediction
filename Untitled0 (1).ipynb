{
  "nbformat": 4,
  "nbformat_minor": 0,
  "metadata": {
    "colab": {
      "provenance": []
    },
    "kernelspec": {
      "name": "python3",
      "display_name": "Python 3"
    },
    "language_info": {
      "name": "python"
    }
  },
  "cells": [
    {
      "cell_type": "markdown",
      "source": [],
      "metadata": {
        "id": "Lc_I8RrN54Aa"
      }
    },
    {
      "cell_type": "markdown",
      "source": [
        "#Importing Libraries\n"
      ],
      "metadata": {
        "id": "S0bPrREv597O"
      }
    },
    {
      "cell_type": "markdown",
      "source": [],
      "metadata": {
        "id": "zlThUS5rDg5v"
      }
    },
    {
      "cell_type": "code",
      "execution_count": 1,
      "metadata": {
        "id": "bFoXa2DF5U4d"
      },
      "outputs": [],
      "source": [
        "import numpy as np\n",
        "import pandas as pd\n",
        "from sklearn.impute import SimpleImputer\n",
        "from sklearn.preprocessing import LabelEncoder, StandardScaler\n",
        "from sklearn.model_selection import train_test_split\n",
        "from sklearn.linear_model import LinearRegression, Lasso\n",
        "from sklearn.svm import SVC\n",
        "from sklearn.metrics import accuracy_score"
      ]
    },
    {
      "cell_type": "markdown",
      "source": [
        "#Importing Dataset"
      ],
      "metadata": {
        "id": "xAxbi-bx6b6A"
      }
    },
    {
      "cell_type": "code",
      "source": [
        "dataset = pd.read_csv('/content/drive/MyDrive/Colab Notebooks/weatherAUS.csv')\n",
        "X = dataset.iloc[:,[1,2,3,4,7,8,9,10,11,12,13,14,15,16,17,18,19,20,21]].values\n",
        "Y = dataset.iloc[:,-1].values\n",
        "Y = Y.reshape(-1,1)"
      ],
      "metadata": {
        "id": "jWpPvD-B6jHs"
      },
      "execution_count": 2,
      "outputs": []
    },
    {
      "cell_type": "code",
      "source": [
        "print(X)"
      ],
      "metadata": {
        "colab": {
          "base_uri": "https://localhost:8080/"
        },
        "id": "_Rg7w52D63C4",
        "outputId": "ef5c6f4f-dc6a-4a7d-b8ce-278338434aba"
      },
      "execution_count": 13,
      "outputs": [
        {
          "output_type": "stream",
          "name": "stdout",
          "text": [
            "[['Albury' 13.4 22.9 ... 16.9 21.8 'No']\n",
            " ['Albury' 7.4 25.1 ... 17.2 24.3 'No']\n",
            " ['Albury' 12.9 25.7 ... 21.0 23.2 'No']\n",
            " ...\n",
            " ['Uluru' 5.4 26.9 ... 12.5 26.1 'No']\n",
            " ['Uluru' 7.8 27.0 ... 15.1 26.0 'No']\n",
            " ['Uluru' 14.9 nan ... 15.0 20.9 'No']]\n"
          ]
        }
      ]
    },
    {
      "cell_type": "code",
      "source": [
        "print(Y)"
      ],
      "metadata": {
        "colab": {
          "base_uri": "https://localhost:8080/"
        },
        "id": "oedIKpaR9yru",
        "outputId": "4375ee48-79e0-4768-cbbd-e47c1c373a57"
      },
      "execution_count": 14,
      "outputs": [
        {
          "output_type": "stream",
          "name": "stdout",
          "text": [
            "['No' 'No' 'No' ... 'No' 'No' nan]\n"
          ]
        }
      ]
    },
    {
      "cell_type": "markdown",
      "source": [
        "#Dealing with invalid Data"
      ],
      "metadata": {
        "id": "MS_E1Nym-oVq"
      }
    },
    {
      "cell_type": "code",
      "source": [
        "from sklearn.impute import SimpleImputer\n",
        "imputer = SimpleImputer(missing_values=np.nan,strategy='most_frequent')\n",
        "X = imputer.fit_transform(X)\n",
        "Y = imputer.fit_transform(Y)\n"
      ],
      "metadata": {
        "id": "8pFVUa9v-sNl"
      },
      "execution_count": 3,
      "outputs": []
    },
    {
      "cell_type": "code",
      "source": [
        "print(X)"
      ],
      "metadata": {
        "colab": {
          "base_uri": "https://localhost:8080/"
        },
        "id": "ct-7ac4k-wwy",
        "outputId": "1b07bce2-4d6c-452c-aa00-fbf3bbf1bb13"
      },
      "execution_count": 17,
      "outputs": [
        {
          "output_type": "stream",
          "name": "stdout",
          "text": [
            "[['Albury' 13.4 22.9 ... 16.9 21.8 'No']\n",
            " ['Albury' 7.4 25.1 ... 17.2 24.3 'No']\n",
            " ['Albury' 12.9 25.7 ... 21.0 23.2 'No']\n",
            " ...\n",
            " ['Uluru' 5.4 26.9 ... 12.5 26.1 'No']\n",
            " ['Uluru' 7.8 27.0 ... 15.1 26.0 'No']\n",
            " ['Uluru' 14.9 20.0 ... 15.0 20.9 'No']]\n"
          ]
        }
      ]
    },
    {
      "cell_type": "code",
      "source": [
        "print(Y)"
      ],
      "metadata": {
        "colab": {
          "base_uri": "https://localhost:8080/"
        },
        "id": "OsRZtwXu-0Cy",
        "outputId": "da662895-ee05-4d02-be16-2eb688d6f25c"
      },
      "execution_count": 18,
      "outputs": [
        {
          "output_type": "stream",
          "name": "stdout",
          "text": [
            "[['No']\n",
            " ['No']\n",
            " ['No']\n",
            " ...\n",
            " ['No']\n",
            " ['No']\n",
            " ['No']]\n"
          ]
        }
      ]
    },
    {
      "cell_type": "markdown",
      "source": [
        "#Encoding Dataset\n"
      ],
      "metadata": {
        "id": "GzJFuIFnB593"
      }
    },
    {
      "cell_type": "code",
      "source": [
        "label_encoders = []\n",
        "for i in range(X.shape[1]):\n",
        "    le = LabelEncoder()\n",
        "    X[:, i] = le.fit_transform(X[:, i])\n",
        "    label_encoders.append(le)\n",
        "\n",
        "Y = LabelEncoder().fit_transform(Y.ravel())"
      ],
      "metadata": {
        "id": "cG-vFZdhB9NJ"
      },
      "execution_count": 4,
      "outputs": []
    },
    {
      "cell_type": "code",
      "source": [
        "print(X)"
      ],
      "metadata": {
        "colab": {
          "base_uri": "https://localhost:8080/"
        },
        "id": "-veZdltyB_8-",
        "outputId": "ff62a39b-d54f-4fda-ee55-b83df1216859"
      },
      "execution_count": 21,
      "outputs": [
        {
          "output_type": "stream",
          "name": "stdout",
          "text": [
            "[[  2. 213. 262. ... 224. 262.   0.]\n",
            " [  2. 153. 284. ... 227. 287.   0.]\n",
            " [  2. 208. 290. ... 265. 276.   0.]\n",
            " ...\n",
            " [ 41. 133. 302. ... 180. 305.   0.]\n",
            " [ 41. 157. 303. ... 206. 304.   0.]\n",
            " [ 41. 228. 233. ... 205. 253.   0.]]\n"
          ]
        }
      ]
    },
    {
      "cell_type": "code",
      "source": [
        "print(Y)"
      ],
      "metadata": {
        "colab": {
          "base_uri": "https://localhost:8080/"
        },
        "id": "GQif7MlFCDYr",
        "outputId": "6370b3cf-a284-45d1-83f9-e7bb5ca548b9"
      },
      "execution_count": 23,
      "outputs": [
        {
          "output_type": "stream",
          "name": "stdout",
          "text": [
            "[0. 0. 0. ... 0. 0. 0.]\n"
          ]
        }
      ]
    },
    {
      "cell_type": "code",
      "source": [],
      "metadata": {
        "colab": {
          "base_uri": "https://localhost:8080/"
        },
        "id": "HMM9stAvCIoz",
        "outputId": "39e9efa4-70e1-41c8-80fd-33f6ce72f431"
      },
      "execution_count": 22,
      "outputs": [
        {
          "output_type": "stream",
          "name": "stdout",
          "text": [
            "[0. 0. 0. ... 0. 0. 0.]\n"
          ]
        }
      ]
    },
    {
      "cell_type": "markdown",
      "source": [
        "#Feature Scaling"
      ],
      "metadata": {
        "id": "7I9_w5fWCMJS"
      }
    },
    {
      "cell_type": "code",
      "source": [
        "from sklearn.preprocessing import StandardScaler\n",
        "sc = StandardScaler()\n",
        "X = sc.fit_transform(X)"
      ],
      "metadata": {
        "id": "Erxz6F34CQ2u"
      },
      "execution_count": 5,
      "outputs": []
    },
    {
      "cell_type": "code",
      "source": [
        "print(X)"
      ],
      "metadata": {
        "colab": {
          "base_uri": "https://localhost:8080/"
        },
        "id": "LIdRXOmcCWHO",
        "outputId": "3a1a9fe9-d83b-4992-be31-391969d4e377"
      },
      "execution_count": 24,
      "outputs": [
        {
          "output_type": "stream",
          "name": "stdout",
          "text": [
            "[[-1.53166617  0.19132753 -0.04135977 ... -0.01407077  0.02310362\n",
            "  -0.52979545]\n",
            " [-1.53166617 -0.75105231  0.26874452 ...  0.03244663  0.387799\n",
            "  -0.52979545]\n",
            " [-1.53166617  0.11279588  0.35331842 ...  0.62166712  0.22733303\n",
            "  -0.52979545]\n",
            " ...\n",
            " [ 1.20928479 -1.06517892  0.52246622 ... -0.69632607  0.65037966\n",
            "  -0.52979545]\n",
            " [ 1.20928479 -0.68822699  0.53656187 ... -0.29317521  0.63579185\n",
            "  -0.52979545]\n",
            " [ 1.20928479  0.42692249 -0.45013361 ... -0.30868102 -0.10818671\n",
            "  -0.52979545]]\n"
          ]
        }
      ]
    },
    {
      "cell_type": "markdown",
      "source": [
        "#Splitting Dataset into Training set and Test set"
      ],
      "metadata": {
        "id": "9cnq51D2CYBT"
      }
    },
    {
      "cell_type": "code",
      "source": [
        "from sklearn.model_selection import train_test_split\n",
        "X_train, X_test, Y_train, Y_test = train_test_split(X, Y, test_size=0.2, random_state=0)"
      ],
      "metadata": {
        "id": "2G-p5yvvCa5O"
      },
      "execution_count": 6,
      "outputs": []
    },
    {
      "cell_type": "code",
      "source": [
        "print(X_train)"
      ],
      "metadata": {
        "colab": {
          "base_uri": "https://localhost:8080/"
        },
        "id": "1kWKQrjdCnUV",
        "outputId": "17d132e6-9d1d-4058-a592-26f120339e78"
      },
      "execution_count": 15,
      "outputs": [
        {
          "output_type": "stream",
          "name": "stdout",
          "text": [
            "[[ 0.22535368  1.03946939  0.07140543 ...  0.68369032  0.08145488\n",
            "  -0.52979545]\n",
            " [ 1.42012717 -0.45263203  0.11369237 ... -0.41722163  0.22733303\n",
            "  -0.52979545]\n",
            " [ 0.50647685 -0.20133073 -0.14002932 ... -0.06058818 -0.02065982\n",
            "   1.88752093]\n",
            " ...\n",
            " [ 1.0687232   0.75675544  0.93124006 ...  1.10234698  1.07342629\n",
            "  -0.52979545]\n",
            " [ 0.57675765 -0.04426743 -0.16822062 ...  0.01694083 -0.28324049\n",
            "   1.88752093]\n",
            " [ 1.63096955 -0.0285611  -0.91529006 ... -0.35519842 -0.76463838\n",
            "  -0.52979545]]\n"
          ]
        }
      ]
    },
    {
      "cell_type": "code",
      "source": [
        "print(Y_train)"
      ],
      "metadata": {
        "colab": {
          "base_uri": "https://localhost:8080/"
        },
        "id": "B117qwiuCplC",
        "outputId": "5d3bd0d8-e526-43fd-9a06-5cf2d8fc6536"
      },
      "execution_count": 16,
      "outputs": [
        {
          "output_type": "stream",
          "name": "stdout",
          "text": [
            "[[1.]\n",
            " [0.]\n",
            " [0.]\n",
            " ...\n",
            " [0.]\n",
            " [0.]\n",
            " [0.]]\n"
          ]
        }
      ]
    },
    {
      "cell_type": "markdown",
      "source": [
        "#LinearRegression"
      ],
      "metadata": {
        "id": "kg-ZlLyrFltd"
      }
    },
    {
      "cell_type": "code",
      "source": [
        "from sklearn.linear_model import LinearRegression\n",
        "\n",
        "# Training Linear Regression Model\n",
        "linear_reg = LinearRegression()\n",
        "linear_reg.fit(X_train, Y_train)\n",
        "\n",
        "# Predicting with Linear Regression\n",
        "y_pred_linear = linear_reg.predict(X_test)\n",
        "# Display predictions\n",
        "print(y_pred_linear)\n",
        "\n",
        "\n"
      ],
      "metadata": {
        "colab": {
          "base_uri": "https://localhost:8080/"
        },
        "id": "d0jWZCBOFohI",
        "outputId": "c770b6b9-f243-471b-b403-3c197443227e"
      },
      "execution_count": 7,
      "outputs": [
        {
          "output_type": "stream",
          "name": "stdout",
          "text": [
            "[0.27599568 0.26400674 0.23225283 ... 0.49833614 0.30521394 0.00954072]\n"
          ]
        }
      ]
    },
    {
      "cell_type": "markdown",
      "source": [],
      "metadata": {
        "id": "IpdcX55LY-4X"
      }
    },
    {
      "cell_type": "markdown",
      "source": [
        "#Lasso Regression:"
      ],
      "metadata": {
        "id": "YWwJpRd_GIKq"
      }
    },
    {
      "cell_type": "code",
      "source": [
        "from sklearn.linear_model import Lasso\n",
        "\n",
        "\n",
        "# Training Lasso Regression Model\n",
        "lasso_reg = Lasso(alpha=0.1)\n",
        "lasso_reg.fit(X_train, Y_train)\n",
        "\n",
        "# Predicting with Lasso Regression\n",
        "y_pred_lasso = lasso_reg.predict(X_test)\n",
        "print(y_pred_lasso)"
      ],
      "metadata": {
        "colab": {
          "base_uri": "https://localhost:8080/"
        },
        "id": "5YHnEtKmGLHf",
        "outputId": "1377b502-7077-4914-b81f-2b21b00ceb65"
      },
      "execution_count": 8,
      "outputs": [
        {
          "output_type": "stream",
          "name": "stdout",
          "text": [
            "[0.11964398 0.10408768 0.21687083 ... 0.27909601 0.22464897 0.18964731]\n"
          ]
        }
      ]
    },
    {
      "cell_type": "markdown",
      "source": [
        "#RandomForestClassifier"
      ],
      "metadata": {
        "id": "IFBI7-bQCrYe"
      }
    },
    {
      "cell_type": "code",
      "source": [
        "from sklearn.ensemble import RandomForestClassifier\n",
        "classifier = RandomForestClassifier(n_estimators=100, random_state=0)\n",
        "classifier.fit(X_train, Y_train)\n",
        "\n",
        "# Predicting with the trained model\n",
        "y_pred = classifier.predict(X_test)\n",
        "\n",
        "y_pred = y_pred.reshape(-1, 1)  # Reshape predictions if necessary\n",
        "\n",
        "# Assuming Y_test was encoded using the same LabelEncoder as Y_train\n",
        "Y_test = label_encoders[-1].inverse_transform(Y_test)\n",
        "y_pred = label_encoders[-1].inverse_transform(y_pred)\n",
        "\n",
        "# Creating DataFrame for comparison\n",
        "dataframe = pd.DataFrame({'Rain on Tommorrow': Y_test.flatten(), 'Predition of Rain': y_pred.flatten()})\n",
        "print(dataframe)"
      ],
      "metadata": {
        "colab": {
          "base_uri": "https://localhost:8080/"
        },
        "id": "YOAPngp6Cu4k",
        "outputId": "822af32f-5e89-488a-aeaf-6d2e33195737"
      },
      "execution_count": 12,
      "outputs": [
        {
          "output_type": "stream",
          "name": "stdout",
          "text": [
            "      Actual Predicted\n",
            "0        Yes        No\n",
            "1        Yes        No\n",
            "2         No        No\n",
            "3         No       Yes\n",
            "4         No        No\n",
            "...      ...       ...\n",
            "29087     No       Yes\n",
            "29088     No        No\n",
            "29089    Yes        No\n",
            "29090     No        No\n",
            "29091     No        No\n",
            "\n",
            "[29092 rows x 2 columns]\n"
          ]
        },
        {
          "output_type": "stream",
          "name": "stderr",
          "text": [
            "/usr/local/lib/python3.10/dist-packages/sklearn/preprocessing/_label.py:155: DataConversionWarning: A column-vector y was passed when a 1d array was expected. Please change the shape of y to (n_samples, ), for example using ravel().\n",
            "  y = column_or_1d(y, warn=True)\n"
          ]
        }
      ]
    },
    {
      "cell_type": "markdown",
      "source": [
        "#Calculating Accuracy"
      ],
      "metadata": {
        "id": "ZnuJ7-x_DTt5"
      }
    },
    {
      "cell_type": "code",
      "source": [
        "from sklearn.metrics import accuracy_score\n",
        "from sklearn.ensemble import RandomForestClassifier\n",
        "Y_test_numeric = (Y_test == 'Yes').astype(int)\n",
        "\n",
        "# Training Random Forest Model\n",
        "random_forest_classifier = RandomForestClassifier(n_estimators=100, random_state=0)\n",
        "random_forest_classifier.fit(X_train, Y_train)\n",
        "\n",
        "# Predicting with Random Forest\n",
        "y_pred_random_forest = random_forest_classifier.predict(X_test)\n",
        "\n",
        "# Calculate accuracies\n",
        "accuracy_linear = accuracy_score(Y_test_numeric, y_pred_linear.round())\n",
        "accuracy_lasso = accuracy_score(Y_test_numeric, y_pred_lasso.round())\n",
        "accuracy_random_forest = accuracy_score(Y_test_numeric, y_pred_random_forest)\n",
        "\n",
        "# Printing accuracies\n",
        "print(\"Accuracy for Linear Regression:\", accuracy_linear)\n",
        "print(\"Accuracy for Lasso Regression:\", accuracy_lasso)\n",
        "print(\"Accuracy for Random Forest:\", accuracy_random_forest)\n",
        "\n"
      ],
      "metadata": {
        "colab": {
          "base_uri": "https://localhost:8080/"
        },
        "id": "bFGpYsknDWPS",
        "outputId": "d1f04d87-9d6c-468d-99cc-75ed764e5da1"
      },
      "execution_count": 18,
      "outputs": [
        {
          "output_type": "stream",
          "name": "stdout",
          "text": [
            "Accuracy for Linear Regression: 0.8389935377423346\n",
            "Accuracy for Lasso Regression: 0.7811769558641551\n",
            "Accuracy for Random Forest: 0.852502406159769\n"
          ]
        }
      ]
    },
    {
      "cell_type": "markdown",
      "source": [
        "#Graph"
      ],
      "metadata": {
        "id": "WiPpi-GZfuaa"
      }
    },
    {
      "cell_type": "code",
      "source": [
        "import matplotlib.pyplot as plt\n",
        "\n",
        "# Assuming Y_test contains actual rainfall values and y_pred contains predicted rainfall values\n",
        "\n",
        "plt.figure(figsize=(8, 6))  # Adjust figure size as needed\n",
        "\n",
        "# Plot scatter plot\n",
        "plt.scatter(Y_test, y_pred, color='blue', alpha=0.5)\n",
        "\n",
        "# Add labels and title\n",
        "plt.xlabel('Actual Rainfall')\n",
        "plt.ylabel('Predicted Rainfall')\n",
        "plt.title('Actual vs. Predicted Rainfall')\n",
        "\n",
        "# Add a diagonal line for perfect predictions\n",
        "plt.plot(Y_test, Y_test, color='red', linestyle='--')\n",
        "\n",
        "# Show plot\n",
        "plt.show()\n"
      ],
      "metadata": {
        "colab": {
          "base_uri": "https://localhost:8080/",
          "height": 573
        },
        "id": "RqtyZ-JfZaZH",
        "outputId": "b31affc7-827a-4fb5-a543-86bd251a8094"
      },
      "execution_count": 31,
      "outputs": [
        {
          "output_type": "display_data",
          "data": {
            "text/plain": [
              "<Figure size 800x600 with 1 Axes>"
            ],
            "image/png": "[encoded data removed]"
          },
          "metadata": {}
        }
      ]
    }
  ]
}